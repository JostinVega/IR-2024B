{
 "cells": [
  {
   "cell_type": "code",
   "execution_count": null,
   "id": "0393ea0b-bd93-4195-bc6d-821ecba92dd8",
   "metadata": {},
   "outputs": [],
   "source": [
    "import pandas as pd"
   ]
  },
  {
   "cell_type": "code",
   "execution_count": null,
   "id": "9e860548-4c15-4356-a4a4-575acd7cd195",
   "metadata": {},
   "outputs": [],
   "source": [
    "df = pd.read_csv('../data/archive/winemag-data-130k-v2' ,index_col=0)\n",
    "df"
   ]
  },
  {
   "cell_type": "code",
   "execution_count": null,
   "id": "e2953f52-6200-4173-809d-5f72d934857f",
   "metadata": {},
   "outputs": [],
   "source": [
    "corpus = df[\"descripcion\"]\n",
    "corpus"
   ]
  },
  {
   "cell_type": "markdown",
   "id": "f2a9a8d4-45c9-4b8c-bd67-a782c7c70a3d",
   "metadata": {},
   "source": [
    "Ahora, vamos a utilizar el modelo Wor2Vec para _modelar_ el corpus. En primer lugar cargammos el modelo Word2Vec"
   ]
  },
  {
   "cell_type": "code",
   "execution_count": null,
   "id": "1e786918-407f-46e5-9b0e-5a770c8c0c6a",
   "metadata": {},
   "outputs": [
    {
     "name": "stdout",
     "output_type": "stream",
     "text": [
      "WARNING:tensorflow:From C:\\Users\\USER\\anaconda3\\lib\\site-packages\\keras\\src\\losses.py:2976: The name tf.losses.sparse_softmax_cross_entropy is deprecated. Please use tf.compat.v1.losses.sparse_softmax_cross_entropy instead.\n",
      "\n",
      "[=====---------------------------------------------] 10.3% 170.9/1662.8MB downloaded"
     ]
    }
   ],
   "source": [
    "import tensorflow as tf\n",
    "import gensim.downloader as api\n",
    "\n",
    "wor2vect = api.load('word2vec-google-news-300')"
   ]
  },
  {
   "cell_type": "code",
   "execution_count": null,
   "id": "5ffa9fa7-f323-41a1-84a4-70cad5761646",
   "metadata": {},
   "outputs": [],
   "source": []
  }
 ],
 "metadata": {
  "kernelspec": {
   "display_name": "Python 3 (ipykernel)",
   "language": "python",
   "name": "python3"
  },
  "language_info": {
   "codemirror_mode": {
    "name": "ipython",
    "version": 3
   },
   "file_extension": ".py",
   "mimetype": "text/x-python",
   "name": "python",
   "nbconvert_exporter": "python",
   "pygments_lexer": "ipython3",
   "version": "3.10.13"
  }
 },
 "nbformat": 4,
 "nbformat_minor": 5
}
